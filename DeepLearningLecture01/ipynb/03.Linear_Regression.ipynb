{
 "cells": [
  {
   "cell_type": "code",
   "execution_count": 1,
   "metadata": {},
   "outputs": [
    {
     "name": "stdout",
     "output_type": "stream",
     "text": [
      "name :  _pywrap_tensorflow_internal  path :  C:\\Users\\ioume\\Anaconda3\\lib\\site-packages\\tensorflow\\python\\_pywrap_tensorflow_internal.pyd\n",
      "fsdfsdfdssfdsfd ModuleSpec(name='_pywrap_tensorflow_internal', loader=<_frozen_importlib_external.ExtensionFileLoader object at 0x0000023FD2504438>, origin='C:\\\\Users\\\\ioume\\\\Anaconda3\\\\lib\\\\site-packages\\\\tensorflow\\\\python\\\\_pywrap_tensorflow_internal.pyd')\n",
      "name :  pywintypes  path :  C:\\Users\\ioume\\Anaconda3\\lib\\site-packages\\win32\\pywintypes36.dll\n",
      "fsdfsdfdssfdsfd ModuleSpec(name='pywintypes', loader=<_frozen_importlib_external.ExtensionFileLoader object at 0x0000023FD25DCEF0>, origin='C:\\\\Users\\\\ioume\\\\Anaconda3\\\\lib\\\\site-packages\\\\win32\\\\pywintypes36.dll')\n",
      "name :  pythoncom  path :  C:\\Windows\\SYSTEM32\\pythoncom36.dll\n",
      "fsdfsdfdssfdsfd ModuleSpec(name='pythoncom', loader=<_frozen_importlib_external.ExtensionFileLoader object at 0x0000023FD25DCD68>, origin='C:\\\\Windows\\\\SYSTEM32\\\\pythoncom36.dll')\n",
      "W: [-0.9999969] b: [0.9999908] cost: 5.699973826267524e-11\n"
     ]
    },
    {
     "data": {
      "text/plain": [
       "'\\nW: [-0.9999969] b: [0.9999908] cost: 5.699973826267524e-11\\n'"
      ]
     },
     "execution_count": 1,
     "metadata": {},
     "output_type": "execute_result"
    }
   ],
   "source": [
    "# From https://www.tensorflow.org/get_started/get_started\n",
    "import tensorflow as tf\n",
    "\n",
    "# training data\n",
    "x_train = [1, 2, 3, 4]\n",
    "y_train = [0, -1, -2, -3]\n",
    "\n",
    "# Model parameters\n",
    "W = tf.Variable([0.3], tf.float32)\n",
    "b = tf.Variable([-0.3], tf.float32)\n",
    "\n",
    "# Model input and output\n",
    "x = tf.placeholder(tf.float32)\n",
    "y = tf.placeholder(tf.float32)\n",
    "\n",
    "hypothesis = x * W + b\n",
    "\n",
    "# cost/loss function\n",
    "cost = tf.reduce_sum(tf.square(hypothesis - y))  # sum of the squares\n",
    "\n",
    "# optimizer\n",
    "train = tf.train.GradientDescentOptimizer(learning_rate=0.01).minimize(cost)\n",
    "\n",
    "# training\n",
    "with tf.Session() as sess:\n",
    "    sess.run(tf.global_variables_initializer())\n",
    "\n",
    "    for step in range(1000):\n",
    "        sess.run(train, {x: x_train, y: y_train})\n",
    "\n",
    "    # evaluate training accuracy\n",
    "    W_val, b_val, cost_val = sess.run([W, b, cost], feed_dict={x: x_train, y: y_train})\n",
    "    print(f\"W: {W_val} b: {b_val} cost: {cost_val}\")\n",
    "\n",
    "\"\"\"\n",
    "W: [-0.9999969] b: [0.9999908] cost: 5.699973826267524e-11\n",
    "\"\"\""
   ]
  },
  {
   "cell_type": "code",
   "execution_count": null,
   "metadata": {},
   "outputs": [],
   "source": []
  }
 ],
 "metadata": {
  "kernelspec": {
   "display_name": "Python 3",
   "language": "python",
   "name": "python3"
  },
  "language_info": {
   "codemirror_mode": {
    "name": "ipython",
    "version": 3
   },
   "file_extension": ".py",
   "mimetype": "text/x-python",
   "name": "python",
   "nbconvert_exporter": "python",
   "pygments_lexer": "ipython3",
   "version": "3.6.8"
  }
 },
 "nbformat": 4,
 "nbformat_minor": 2
}
